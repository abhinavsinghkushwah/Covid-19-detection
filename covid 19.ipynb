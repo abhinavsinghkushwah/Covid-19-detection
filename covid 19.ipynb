{
 "cells": [
  {
   "cell_type": "code",
   "execution_count": 4,
   "metadata": {},
   "outputs": [],
   "source": [
    "import os\n",
    "import zipfile\n",
    "import random\n",
    "import tensorflow as tf\n",
    "from tensorflow.keras.optimizers import RMSprop\n",
    "from tensorflow.keras.preprocessing.image import ImageDataGenerator\n",
    "from shutil import copyfile"
   ]
  },
  {
   "cell_type": "code",
   "execution_count": 14,
   "metadata": {},
   "outputs": [
    {
     "name": "stdout",
     "output_type": "stream",
     "text": [
      "149\n",
      "300\n",
      "2.0.0\n"
     ]
    }
   ],
   "source": [
    "print(len(os.listdir('G:/COVID-19/X-Ray Image DataSet/Covid-19')))\n",
    "print(len(os.listdir('G:/COVID-19/X-Ray Image DataSet/No_findings')))\n",
    "print(tf.__version__)"
   ]
  },
  {
   "cell_type": "code",
   "execution_count": 3,
   "metadata": {},
   "outputs": [],
   "source": [
    "def split_data(SOURCE, TRAINING, TESTING, SPLIT_SIZE):\n",
    "    files = []\n",
    "    for filename in os.listdir(SOURCE):\n",
    "        file = SOURCE + filename\n",
    "        if os.path.getsize(file) > 0:\n",
    "            files.append(filename)\n",
    "        else:\n",
    "            print(filename + \" is zero length, so ignoring.\")\n",
    "\n",
    "    training_length = int(len(files) * SPLIT_SIZE)\n",
    "    testing_length = int(len(files) - training_length)\n",
    "    shuffled_set = random.sample(files, len(files))\n",
    "    training_set = shuffled_set[0:training_length]\n",
    "    testing_set = shuffled_set[-testing_length:]\n",
    "\n",
    "    for filename in training_set:\n",
    "        this_file = SOURCE + filename\n",
    "        destination = TRAINING + filename\n",
    "        copyfile(this_file, destination)\n",
    "\n",
    "    for filename in testing_set:\n",
    "        this_file = SOURCE + filename\n",
    "        destination = TESTING + filename\n",
    "        copyfile(this_file, destination)\n",
    "\n",
    "\n",
    "CORONA_SOURCE_DIR = \"G:/COVID-19/X-Ray Image DataSet/Covid-19/\"\n",
    "TRAINING_CORONA_DIR = \"G:/COVID-19/X-Ray Image DataSet/training/corona/\"\n",
    "TESTING_CORONA_DIR = \"G:/COVID-19/X-Ray Image DataSet/testing/corona/\"\n",
    "NO_SOURCE_DIR = \"G:/COVID-19/X-Ray Image DataSet/No_findings/\"\n",
    "TRAINING_NO_DIR = \"G:/COVID-19/X-Ray Image DataSet/training/no_findings/\"\n",
    "TESTING_NO_DIR = \"G:/COVID-19/X-Ray Image DataSet/testing/no_findings/\"\n",
    "\n",
    "split_size = .9\n",
    "split_data(CORONA_SOURCE_DIR, TRAINING_CORONA_DIR, TESTING_CORONA_DIR, split_size)\n",
    "split_data(NO_SOURCE_DIR, TRAINING_NO_DIR, TESTING_NO_DIR, split_size)"
   ]
  },
  {
   "cell_type": "code",
   "execution_count": 5,
   "metadata": {},
   "outputs": [],
   "source": [
    "model = tf.keras.models.Sequential([\n",
    "    tf.keras.layers.Conv2D(16, (3, 3), activation='relu', input_shape=(150, 150, 3)),\n",
    "    tf.keras.layers.MaxPooling2D(2, 2),\n",
    "    tf.keras.layers.Conv2D(32, (3, 3), activation='relu'),\n",
    "    tf.keras.layers.MaxPooling2D(2, 2),\n",
    "    tf.keras.layers.Conv2D(64, (3, 3), activation='relu'),\n",
    "    tf.keras.layers.MaxPooling2D(2, 2),\n",
    "    tf.keras.layers.Flatten(),\n",
    "    tf.keras.layers.Dense(512, activation='relu'),\n",
    "    tf.keras.layers.Dense(1, activation='sigmoid')\n",
    "])\n",
    "optimizer = RMSprop(lr=0.0001)\n",
    "model.compile(optimizer=optimizer, loss='binary_crossentropy', metrics=['acc'],experimental_run_tf_function=False)\n"
   ]
  },
  {
   "cell_type": "code",
   "execution_count": 6,
   "metadata": {},
   "outputs": [
    {
     "name": "stdout",
     "output_type": "stream",
     "text": [
      "Found 320 images belonging to 2 classes.\n",
      "Found 113 images belonging to 2 classes.\n"
     ]
    }
   ],
   "source": [
    "TRAINING_DIR = \"G:/COVID-19/X-Ray Image DataSet/training/\"\n",
    "train_datagen = ImageDataGenerator(rescale=1.0/255.)\n",
    "train_generator = train_datagen.flow_from_directory(TRAINING_DIR,\n",
    "                                                    batch_size=20,\n",
    "                                                    class_mode='binary',\n",
    "                                                    target_size=(150, 150))\n",
    "\n",
    "VALIDATION_DIR = \"G:/COVID-19/X-Ray Image DataSet/testing/\"\n",
    "validation_datagen = ImageDataGenerator(rescale=1.0/255.)\n",
    "validation_generator = validation_datagen.flow_from_directory(VALIDATION_DIR,\n",
    "                                                              batch_size=10,\n",
    "                                                              class_mode='binary',\n",
    "                                                              target_size=(150, 150))"
   ]
  },
  {
   "cell_type": "code",
   "execution_count": 7,
   "metadata": {},
   "outputs": [
    {
     "name": "stdout",
     "output_type": "stream",
     "text": [
      "Epoch 1/35\n",
      "15/15 [==============================] - 19s 1s/step - loss: 0.6846 - acc: 0.6200 - val_loss: 0.4852 - val_acc: 0.7600\n",
      "Epoch 2/35\n",
      "15/15 [==============================] - 12s 789ms/step - loss: 0.5487 - acc: 0.7133 - val_loss: 0.6021 - val_acc: 0.7000\n",
      "Epoch 3/35\n",
      "15/15 [==============================] - 12s 806ms/step - loss: 0.4545 - acc: 0.8167 - val_loss: 0.2958 - val_acc: 0.9000\n",
      "Epoch 4/35\n",
      "15/15 [==============================] - 12s 792ms/step - loss: 0.3819 - acc: 0.8433 - val_loss: 0.3042 - val_acc: 0.9200\n",
      "Epoch 5/35\n",
      "15/15 [==============================] - 12s 798ms/step - loss: 0.2887 - acc: 0.8833 - val_loss: 0.2332 - val_acc: 0.9400\n",
      "Epoch 6/35\n",
      "15/15 [==============================] - 12s 776ms/step - loss: 0.2724 - acc: 0.9067 - val_loss: 0.1842 - val_acc: 0.9400\n",
      "Epoch 7/35\n",
      "15/15 [==============================] - 13s 865ms/step - loss: 0.2253 - acc: 0.9133 - val_loss: 0.2271 - val_acc: 0.9200\n",
      "Epoch 8/35\n",
      "15/15 [==============================] - 12s 767ms/step - loss: 0.1920 - acc: 0.9267 - val_loss: 0.1902 - val_acc: 0.9600\n",
      "Epoch 9/35\n",
      "15/15 [==============================] - 12s 791ms/step - loss: 0.2075 - acc: 0.9167 - val_loss: 0.1508 - val_acc: 0.9600\n",
      "Epoch 10/35\n",
      "15/15 [==============================] - 11s 713ms/step - loss: 0.1899 - acc: 0.9333 - val_loss: 0.1579 - val_acc: 0.9400\n",
      "Epoch 11/35\n",
      "15/15 [==============================] - 12s 800ms/step - loss: 0.1777 - acc: 0.9367 - val_loss: 0.0893 - val_acc: 0.9600\n",
      "Epoch 12/35\n",
      "15/15 [==============================] - 10s 667ms/step - loss: 0.1536 - acc: 0.9500 - val_loss: 0.0952 - val_acc: 0.9800\n",
      "Epoch 13/35\n",
      "15/15 [==============================] - 11s 705ms/step - loss: 0.1841 - acc: 0.9333 - val_loss: 0.1170 - val_acc: 0.9600\n",
      "Epoch 14/35\n",
      "15/15 [==============================] - 11s 752ms/step - loss: 0.1231 - acc: 0.9633 - val_loss: 0.0907 - val_acc: 0.9800\n",
      "Epoch 15/35\n",
      "15/15 [==============================] - 10s 697ms/step - loss: 0.1781 - acc: 0.9267 - val_loss: 0.0687 - val_acc: 0.9800\n",
      "Epoch 16/35\n",
      "15/15 [==============================] - 11s 726ms/step - loss: 0.1186 - acc: 0.9600 - val_loss: 0.0623 - val_acc: 0.9800\n",
      "Epoch 17/35\n",
      "15/15 [==============================] - 11s 716ms/step - loss: 0.1116 - acc: 0.9567 - val_loss: 0.1858 - val_acc: 0.9400\n",
      "Epoch 18/35\n",
      "15/15 [==============================] - 13s 852ms/step - loss: 0.1466 - acc: 0.9267 - val_loss: 0.0645 - val_acc: 0.9800\n",
      "Epoch 19/35\n",
      "15/15 [==============================] - 11s 755ms/step - loss: 0.0935 - acc: 0.9700 - val_loss: 0.0485 - val_acc: 0.9800\n",
      "Epoch 20/35\n",
      "15/15 [==============================] - 11s 741ms/step - loss: 0.1449 - acc: 0.9433 - val_loss: 0.1001 - val_acc: 0.9400\n",
      "Epoch 21/35\n",
      "15/15 [==============================] - 11s 722ms/step - loss: 0.0895 - acc: 0.9633 - val_loss: 0.0556 - val_acc: 0.9800\n",
      "Epoch 22/35\n",
      "15/15 [==============================] - 11s 724ms/step - loss: 0.1305 - acc: 0.9533 - val_loss: 0.0917 - val_acc: 0.9600\n",
      "Epoch 23/35\n",
      "15/15 [==============================] - 11s 730ms/step - loss: 0.0854 - acc: 0.9700 - val_loss: 0.0475 - val_acc: 0.9800\n",
      "Epoch 24/35\n",
      "15/15 [==============================] - 11s 718ms/step - loss: 0.0899 - acc: 0.9767 - val_loss: 0.0350 - val_acc: 0.9800\n",
      "Epoch 25/35\n",
      "15/15 [==============================] - 11s 701ms/step - loss: 0.1008 - acc: 0.9633 - val_loss: 0.0339 - val_acc: 1.0000\n",
      "Epoch 26/35\n",
      "15/15 [==============================] - 11s 712ms/step - loss: 0.0566 - acc: 0.9800 - val_loss: 0.0447 - val_acc: 0.9800\n",
      "Epoch 27/35\n",
      "15/15 [==============================] - 12s 782ms/step - loss: 0.0669 - acc: 0.9833 - val_loss: 0.1391 - val_acc: 0.9400\n",
      "Epoch 28/35\n",
      "15/15 [==============================] - 11s 723ms/step - loss: 0.0854 - acc: 0.9767 - val_loss: 0.0263 - val_acc: 1.0000\n",
      "Epoch 29/35\n",
      "15/15 [==============================] - 11s 725ms/step - loss: 0.0688 - acc: 0.9667 - val_loss: 0.0369 - val_acc: 0.9800\n",
      "Epoch 30/35\n",
      "15/15 [==============================] - 11s 701ms/step - loss: 0.0542 - acc: 0.9833 - val_loss: 0.0258 - val_acc: 1.0000\n",
      "Epoch 31/35\n",
      "15/15 [==============================] - 11s 743ms/step - loss: 0.0458 - acc: 0.9833 - val_loss: 0.0790 - val_acc: 0.9800\n",
      "Epoch 32/35\n",
      "15/15 [==============================] - 11s 720ms/step - loss: 0.0696 - acc: 0.9733 - val_loss: 0.0242 - val_acc: 1.0000\n",
      "Epoch 33/35\n",
      "15/15 [==============================] - 10s 697ms/step - loss: 0.0614 - acc: 0.9767 - val_loss: 0.0355 - val_acc: 1.0000\n",
      "Epoch 34/35\n",
      "15/15 [==============================] - 12s 792ms/step - loss: 0.0339 - acc: 0.9933 - val_loss: 0.0388 - val_acc: 1.0000\n",
      "Epoch 35/35\n",
      "15/15 [==============================] - 12s 767ms/step - loss: 0.0252 - acc: 0.9967 - val_loss: 0.0307 - val_acc: 0.9800\n"
     ]
    }
   ],
   "source": [
    "history = model.fit(train_generator, epochs=35, steps_per_epoch=15,validation_data=validation_generator, validation_steps=5)\n",
    "model.save('C:/Users/Abhinav/Downloads/corona.h5')"
   ]
  },
  {
   "cell_type": "code",
   "execution_count": 8,
   "metadata": {},
   "outputs": [
    {
     "data": {
      "text/plain": [
       "<Figure size 432x288 with 0 Axes>"
      ]
     },
     "execution_count": 8,
     "metadata": {},
     "output_type": "execute_result"
    },
    {
     "data": {
      "image/png": "[encoded data removed]",
      "text/plain": [
       "<Figure size 432x288 with 1 Axes>"
      ]
     },
     "metadata": {
      "needs_background": "light"
     },
     "output_type": "display_data"
    },
    {
     "data": {
      "image/png": "[encoded data removed]",
      "text/plain": [
       "<Figure size 432x288 with 1 Axes>"
      ]
     },
     "metadata": {
      "needs_background": "light"
     },
     "output_type": "display_data"
    },
    {
     "data": {
      "text/plain": [
       "<Figure size 432x288 with 0 Axes>"
      ]
     },
     "metadata": {},
     "output_type": "display_data"
    }
   ],
   "source": [
    "%matplotlib inline\n",
    "\n",
    "import matplotlib.image  as mpimg\n",
    "import matplotlib.pyplot as plt\n",
    "\n",
    "#-----------------------------------------------------------\n",
    "# Retrieve a list of list results on training and test data\n",
    "# sets for each training epoch\n",
    "#-----------------------------------------------------------\n",
    "acc=history.history['acc']\n",
    "val_acc=history.history['val_acc']\n",
    "loss=history.history['loss']\n",
    "val_loss=history.history['val_loss']\n",
    "\n",
    "epochs=range(len(acc)) # Get number of epochs\n",
    "\n",
    "#------------------------------------------------\n",
    "# Plot training and validation accuracy per epoch\n",
    "#------------------------------------------------\n",
    "plt.plot(epochs, acc, 'r', \"Training Accuracy\")\n",
    "plt.plot(epochs, val_acc, 'b', \"Validation Accuracy\")\n",
    "plt.title('Training and validation accuracy')\n",
    "plt.figure()\n",
    "\n",
    "#------------------------------------------------\n",
    "# Plot training and validation loss per epoch\n",
    "#------------------------------------------------\n",
    "plt.plot(epochs, loss, 'r', \"Training Loss\")\n",
    "plt.plot(epochs, val_loss, 'b', \"Validation Loss\")\n",
    "plt.figure()\n",
    "\n",
    "\n",
    "# Desired output. Charts with training and validation metrics. No crash :)"
   ]
  },
  {
   "cell_type": "code",
   "execution_count": 1,
   "metadata": {},
   "outputs": [],
   "source": []
  },
  {
   "cell_type": "code",
   "execution_count": 11,
   "metadata": {},
   "outputs": [
    {
     "name": "stdout",
     "output_type": "stream",
     "text": [
      "[1.]\n",
      "No287.jpg is a NADA\n",
      "[1.]\n",
      "No288.jpg is a NADA\n",
      "[1.]\n",
      "No289.jpg is a NADA\n",
      "[1.]\n",
      "No290.jpg is a NADA\n",
      "[1.]\n",
      "No291.jpg is a NADA\n",
      "[1.]\n",
      "No292.jpg is a NADA\n",
      "[1.]\n",
      "No293.jpg is a NADA\n",
      "[1.]\n",
      "No294.jpg is a NADA\n",
      "[1.]\n",
      "No295.jpg is a NADA\n",
      "[1.]\n",
      "No296.jpg is a NADA\n",
      "[1.]\n",
      "No297.jpg is a NADA\n",
      "[1.]\n",
      "No298.jpg is a NADA\n",
      "[1.]\n",
      "No299.jpg is a NADA\n",
      "[1.]\n",
      "No300.jpg is a NADA\n"
     ]
    },
    {
     "data": {
      "text/plain": [
       "<matplotlib.image.AxesImage at 0x293919c67b8>"
      ]
     },
     "execution_count": 11,
     "metadata": {},
     "output_type": "execute_result"
    },
    {
     "data": {
      "image/png": "[encoded data removed]",
      "text/plain": [
       "<Figure size 432x288 with 1 Axes>"
      ]
     },
     "metadata": {
      "needs_background": "light"
     },
     "output_type": "display_data"
    }
   ],
   "source": [
    "from tensorflow.keras.preprocessing import image\n",
    "import numpy as np\n",
    "import os\n",
    "files = []\n",
    "for i in os.listdir('G:/COVID-19/X-Ray Image DataSet/tesht/'):\n",
    "    path ='G:/COVID-19/X-Ray Image DataSet/tesht/'+i\n",
    "    img= image.load_img(path, target_size=(150,150))\n",
    "\n",
    "    \n",
    "    x=image.img_to_array(img)\n",
    "    x=np.expand_dims(x, axis=0)\n",
    "    images = np.vstack([x])\n",
    "    classes = model.predict(images, batch_size=10)\n",
    "    print(classes[0])\n",
    "    \n",
    "    \n",
    "    if classes[0]>0.5:\n",
    "        print( i +\" is a Normal\")\n",
    "    else:\n",
    "        print(i+ \" is a Covid\")\n",
    "plt.imshow(img)\n",
    "        "
   ]
  },
  {
   "cell_type": "code",
   "execution_count": null,
   "metadata": {},
   "outputs": [],
   "source": []
  }
 ],
 "metadata": {
  "kernelspec": {
   "display_name": "Python 3",
   "language": "python",
   "name": "python3"
  },
  "language_info": {
   "codemirror_mode": {
    "name": "ipython",
    "version": 3
   },
   "file_extension": ".py",
   "mimetype": "text/x-python",
   "name": "python",
   "nbconvert_exporter": "python",
   "pygments_lexer": "ipython3",
   "version": "3.7.3"
  }
 },
 "nbformat": 4,
 "nbformat_minor": 4
}
